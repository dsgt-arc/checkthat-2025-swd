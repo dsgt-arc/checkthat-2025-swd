{
 "cells": [
  {
   "cell_type": "code",
   "execution_count": null,
   "id": "ff2348fd-8ee8-44e5-a1e5-f473d1e2f9b5",
   "metadata": {},
   "outputs": [],
   "source": [
    "from openai import OpenAI\n",
    "import pandas as pd\n",
    "import keyring"
   ]
  },
  {
   "cell_type": "code",
   "execution_count": null,
   "id": "b471ee6b-9f5c-425b-a274-40a593166903",
   "metadata": {},
   "outputs": [],
   "source": [
    "MODEL = 'gpt-4o-mini'"
   ]
  },
  {
   "cell_type": "code",
   "execution_count": null,
   "id": "59d88e7b-55f7-4533-945f-62ea264f19f5",
   "metadata": {},
   "outputs": [],
   "source": [
    "TWEETS_FILEPATH = \"D:/GA Tech/DS@GT/CheckThat! Oraganizer Repo/clef2025-checkthat-lab/task4/subtask_4b/subtask4b_query_tweets_dev.tsv\"\n",
    "ABSTRACTS_FILEPATH = \"D:/GA Tech/DS@GT/CheckThat! Oraganizer Repo/clef2025-checkthat-lab/task4/subtask_4b/subtask4b_collection_data.pkl\""
   ]
  },
  {
   "cell_type": "code",
   "execution_count": null,
   "id": "e1fd7143-d14b-480a-ae55-13773943c514",
   "metadata": {},
   "outputs": [],
   "source": [
    "token = keyring.get_password(\"openai\", \"jschofield8\")\n",
    "client = OpenAI(api_key=token)"
   ]
  },
  {
   "cell_type": "code",
   "execution_count": null,
   "id": "74fb906e-5b59-499d-a38d-3344116ed059",
   "metadata": {},
   "outputs": [],
   "source": [
    "def get_model_response(client, model, dev_content, user_content):\n",
    "    response = client.chat.completions.create(\n",
    "        model=model,\n",
    "        messages=[\n",
    "            {\n",
    "                \"role\": \"developer\",\n",
    "                \"content\": dev_content\n",
    "             },\n",
    "            {\n",
    "                \"role\": \"user\",\n",
    "                \"content\": user_content\n",
    "            },\n",
    "        ],\n",
    "    )\n",
    "\n",
    "    return response.choices[0].message.content"
   ]
  },
  {
   "cell_type": "markdown",
   "id": "53ec2d75-0bab-4f19-b3ec-41f8d8f5adef",
   "metadata": {},
   "source": [
    "## Part 1: Convert Tweets from Informal to Formal Language"
   ]
  },
  {
   "cell_type": "code",
   "execution_count": 6,
   "id": "e9975be9-e4e7-4dac-b600-8d9888b396e3",
   "metadata": {},
   "outputs": [],
   "source": [
    "def generate_tweet_file(df, model, model_instructions, col_name, remove_columns=False):\n",
    "    df[col_name] = df[\"tweet_text\"].apply(lambda x: get_model_response(client, model, model_instructions, x))\n",
    "    \n",
    "    if remove_columns:\n",
    "        df = df[['post_id', col_name, 'cord_uid']]\n",
    "        df.rename(columns={col_name: 'tweet_text'}, inplace=True)\n",
    "    \n",
    "    df.to_csv(\"subtask4b_query_tweets_dev_{}.tsv\".format(col_name), index=False, sep='\\t')"
   ]
  },
  {
   "cell_type": "code",
   "execution_count": 7,
   "id": "caf4954f-27cb-4abe-a750-e8a0d35ab9e1",
   "metadata": {},
   "outputs": [],
   "source": [
    "instructions = \"Rewrite the following COVID-related tweet in formal/scientific language using 25 words or less. Do not include hashtags or special characters in your response.\""
   ]
  },
  {
   "cell_type": "code",
   "execution_count": 8,
   "id": "a83028d7-57fd-4484-b8fe-6ca483224c19",
   "metadata": {},
   "outputs": [],
   "source": [
    "df_tweets = pd.read_csv(TWEETS_FILEPATH, sep='\\t')"
   ]
  },
  {
   "cell_type": "code",
   "execution_count": 9,
   "id": "ea4fa5e9-4b46-4446-b96b-8278d4d3ddb9",
   "metadata": {},
   "outputs": [],
   "source": [
    "generate_tweet_file(\n",
    "                    df=df_tweets, \n",
    "                    model=MODEL, \n",
    "                    model_instructions=instructions,\n",
    "                    col_name=\"formal\"\n",
    "                   )"
   ]
  },
  {
   "cell_type": "markdown",
   "id": "93ad4bb0-49f3-433b-83bb-7933b99a7892",
   "metadata": {},
   "source": [
    "## Part 2: Summarize Abstracts in 100 Words or Less. Use Formal Language"
   ]
  },
  {
   "cell_type": "code",
   "execution_count": null,
   "id": "64b6c0d9-528e-486d-b22f-c92b8374d39b",
   "metadata": {},
   "outputs": [],
   "source": [
    "def generate_abstract_file(df, model, col_name, model_instructions):\n",
    "    df[col_name] = df[\"abstract\"].apply(lambda x: get_model_response(client, model, model_instructions, x))\n",
    "\n",
    "    df[\"combined\"] = df[\"title\"] + \" \" + df[col_name] + \" \" + df[\"authors\"].str.split(\";\").str[:2].str.join(\" \") + \" \" + df[\"source_x\"] + \" \" + df[\"journal\"]\n",
    "    \n",
    "    df.to_pickle(\"subtask4b_collection_data_{}.pkl\".format(col_name), index=False)"
   ]
  },
  {
   "cell_type": "code",
   "execution_count": null,
   "id": "b3855f30-e6df-40f2-87a6-c7165821151c",
   "metadata": {},
   "outputs": [],
   "source": [
    "instructions = \"Summarize the user input using formal English in 100 words or less.\""
   ]
  },
  {
   "cell_type": "code",
   "execution_count": null,
   "id": "c9f820c5-55ac-402e-91a5-09b6f9cbf2a5",
   "metadata": {},
   "outputs": [],
   "source": [
    "df_abstracts = pd.read_pickle(ABSTRACTS_FILEPATH)"
   ]
  },
  {
   "cell_type": "code",
   "execution_count": null,
   "id": "3c14a1f2-e215-4737-99e7-2e65d2a263b8",
   "metadata": {},
   "outputs": [],
   "source": [
    "generate_abstract_file(\n",
    "                       df=df_abstracts, \n",
    "                       model=MODEL, \n",
    "                       col_name=\"formal\",\n",
    "                       model_instructions=instructions\n",
    "                      )"
   ]
  },
  {
   "cell_type": "code",
   "execution_count": null,
   "id": "80fa6687-27ea-4463-b637-7ca350340f2e",
   "metadata": {},
   "outputs": [],
   "source": []
  }
 ],
 "metadata": {
  "kernelspec": {
   "display_name": "Python 3 (ipykernel)",
   "language": "python",
   "name": "python3"
  },
  "language_info": {
   "codemirror_mode": {
    "name": "ipython",
    "version": 3
   },
   "file_extension": ".py",
   "mimetype": "text/x-python",
   "name": "python",
   "nbconvert_exporter": "python",
   "pygments_lexer": "ipython3",
   "version": "3.12.7"
  }
 },
 "nbformat": 4,
 "nbformat_minor": 5
}
