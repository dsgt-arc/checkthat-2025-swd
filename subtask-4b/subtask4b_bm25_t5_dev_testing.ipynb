{
 "cells": [
  {
   "cell_type": "markdown",
   "metadata": {
    "id": "MfnQvGfvtH1w"
   },
   "source": [
    "# Getting started\n",
    "\n",
    "### CLEF 2025 - CheckThat! Lab  - Task 4 Scientific Web Discourse - Subtask 4b (Scientific Claim Source Retrieval)\n",
    "\n",
    "This notebook enables participants of subtask 4b to quickly get started. It includes the following:\n",
    "- Code to upload data, including:\n",
    "    - code to upload the collection set (CORD-19 academic papers' metadata)\n",
    "    - code to upload the query set (tweets with implicit references to CORD-19 papers)\n",
    "- Code to run a baseline retrieval model (BM25)\n",
    "- Code to evaluate the baseline model\n",
    "\n",
    "Participants are free to use this notebook and add their own models for the competition."
   ]
  },
  {
   "cell_type": "markdown",
   "metadata": {
    "id": "vpDCfBMouNAL"
   },
   "source": [
    "# 1) Importing data"
   ]
  },
  {
   "cell_type": "code",
   "execution_count": 1,
   "metadata": {
    "executionInfo": {
     "elapsed": 339,
     "status": "ok",
     "timestamp": 1746842865265,
     "user": {
      "displayName": "Shuyu Tian",
      "userId": "00768256009043036265"
     },
     "user_tz": 240
    },
    "id": "rQPqDKP_QHFM"
   },
   "outputs": [],
   "source": [
    "import numpy as np\n",
    "import pandas as pd"
   ]
  },
  {
   "cell_type": "code",
   "execution_count": 2,
   "metadata": {
    "executionInfo": {
     "elapsed": 20,
     "status": "ok",
     "timestamp": 1746842865349,
     "user": {
      "displayName": "Shuyu Tian",
      "userId": "00768256009043036265"
     },
     "user_tz": 240
    },
    "id": "4nCEw4_-QrfK"
   },
   "outputs": [],
   "source": [
    "import os"
   ]
  },
  {
   "cell_type": "code",
   "execution_count": 3,
   "metadata": {
    "executionInfo": {
     "elapsed": 16,
     "status": "ok",
     "timestamp": 1746842865950,
     "user": {
      "displayName": "Shuyu Tian",
      "userId": "00768256009043036265"
     },
     "user_tz": 240
    },
    "id": "-ovKwAV6Quj1"
   },
   "outputs": [],
   "source": [
    "output_dir = \"results\"\n",
    "experiment_name = \"04_bm25-pt_t5-rerank_model\"\n",
    "rerank_model = \"t5\"  # or your actual reranker\n",
    "results_filename = f\"{experiment_name}_{rerank_model.replace('/', '-')}\"\n",
    "os.makedirs(output_dir, exist_ok=True)\n",
    "output_path = os.path.join(output_dir, results_filename + \".txt\")\n",
    "#f = open(output_path, \"w\")"
   ]
  },
  {
   "cell_type": "markdown",
   "metadata": {
    "id": "u8N7h9BhQI5m"
   },
   "source": [
    "## 1.a) Import the collection set\n",
    "The collection set contains metadata of CORD-19 academic papers.\n",
    "\n",
    "The preprocessed and filtered CORD-19 dataset is available on the Gitlab repository here: https://gitlab.com/checkthat_lab/clef2025-checkthat-lab/-/tree/main/task4?ref_type=heads\n",
    "\n",
    "Participants should first download the file then upload it on the Google Colab session with the following steps.\n"
   ]
  },
  {
   "cell_type": "code",
   "execution_count": 24,
   "metadata": {
    "executionInfo": {
     "elapsed": 84,
     "status": "ok",
     "timestamp": 1746844495740,
     "user": {
      "displayName": "Shuyu Tian",
      "userId": "00768256009043036265"
     },
     "user_tz": 240
    },
    "id": "2GQI4HcKR6hS"
   },
   "outputs": [],
   "source": [
    "# 1) Download the collection set from the Gitlab repository: https://gitlab.com/checkthat_lab/clef2025-checkthat-lab/-/tree/main/task4?ref_type=heads\n",
    "# 2) Drag and drop the downloaded file to the \"Files\" section (left vertical menu on Colab)\n",
    "# 3) Modify the path to your local file path\n",
    "PATH_COLLECTION_DATA = 'subtask4b_collection_data.pkl' #MODIFY PATH"
   ]
  },
  {
   "cell_type": "code",
   "execution_count": 25,
   "metadata": {
    "executionInfo": {
     "elapsed": 54,
     "status": "ok",
     "timestamp": 1746844496119,
     "user": {
      "displayName": "Shuyu Tian",
      "userId": "00768256009043036265"
     },
     "user_tz": 240
    },
    "id": "SYBB3UYbMwTA"
   },
   "outputs": [],
   "source": [
    "df_collection = pd.read_pickle(PATH_COLLECTION_DATA)"
   ]
  },
  {
   "cell_type": "code",
   "execution_count": null,
   "metadata": {
    "colab": {
     "base_uri": "https://localhost:8080/"
    },
    "executionInfo": {
     "elapsed": 71,
     "status": "ok",
     "timestamp": 1746842869483,
     "user": {
      "displayName": "Shuyu Tian",
      "userId": "00768256009043036265"
     },
     "user_tz": 240
    },
    "id": "4v3lygNOQQSn",
    "outputId": "17c70908-eb95-4177-d9c5-0931b58cf328"
   },
   "outputs": [],
   "source": [
    "df_collection.info()"
   ]
  },
  {
   "cell_type": "code",
   "execution_count": null,
   "metadata": {
    "colab": {
     "base_uri": "https://localhost:8080/",
     "height": 608
    },
    "executionInfo": {
     "elapsed": 189,
     "status": "ok",
     "timestamp": 1746842870046,
     "user": {
      "displayName": "Shuyu Tian",
      "userId": "00768256009043036265"
     },
     "user_tz": 240
    },
    "id": "9veNFFGDZRx7",
    "outputId": "1f46bf9b-5141-4d29-e184-a34f7f69e7fd"
   },
   "outputs": [],
   "source": [
    "df_collection.head()"
   ]
  },
  {
   "cell_type": "code",
   "execution_count": null,
   "metadata": {
    "id": "prq8w9VWa7Ei"
   },
   "outputs": [],
   "source": [
    "print(df_collection.columns)"
   ]
  },
  {
   "cell_type": "markdown",
   "metadata": {
    "id": "AAUiDU0xXLBt"
   },
   "source": [
    "## 1.b) Import the query set\n",
    "\n",
    "The query set contains tweets with implicit references to academic papers from the collection set.\n",
    "\n",
    "The preprocessed query set is available on the Gitlab repository here: https://gitlab.com/checkthat_lab/clef2025-checkthat-lab/-/tree/main/task4?ref_type=heads\n",
    "\n",
    "Participants should first download the file then upload it on the Google Colab session with the following steps."
   ]
  },
  {
   "cell_type": "code",
   "execution_count": null,
   "metadata": {
    "executionInfo": {
     "elapsed": 3,
     "status": "ok",
     "timestamp": 1746844503960,
     "user": {
      "displayName": "Shuyu Tian",
      "userId": "00768256009043036265"
     },
     "user_tz": 240
    },
    "id": "v8gwkZDSXPsd"
   },
   "outputs": [],
   "source": [
    "# 1) Download the query tweets from the Gitlab repository: https://gitlab.com/checkthat_lab/clef2025-checkthat-lab/-/tree/main/task4?ref_type=heads\n",
    "# 2) Drag and drop the downloaded file to the \"Files\" section (left vertical menu on Colab)\n",
    "# 3) Modify the path to your local file path\n",
    "PATH_QUERY_DATA = 'subtask4b_query_tweets_dev.tsv' #MODIFY PATH"
   ]
  },
  {
   "cell_type": "code",
   "execution_count": 27,
   "metadata": {
    "executionInfo": {
     "elapsed": 6,
     "status": "ok",
     "timestamp": 1746844504263,
     "user": {
      "displayName": "Shuyu Tian",
      "userId": "00768256009043036265"
     },
     "user_tz": 240
    },
    "id": "VqxjYq2tYDmE"
   },
   "outputs": [],
   "source": [
    "df_query = pd.read_csv(PATH_QUERY_DATA, sep = '\\t')"
   ]
  },
  {
   "cell_type": "code",
   "execution_count": null,
   "metadata": {
    "colab": {
     "base_uri": "https://localhost:8080/",
     "height": 206
    },
    "executionInfo": {
     "elapsed": 62,
     "status": "ok",
     "timestamp": 1746831568782,
     "user": {
      "displayName": "Shuyu Tian",
      "userId": "00768256009043036265"
     },
     "user_tz": 240
    },
    "id": "szMEK3OkYLvX",
    "outputId": "f005eb27-bf5f-4bb0-a4aa-51ac6689949f"
   },
   "outputs": [],
   "source": [
    "df_query.head()"
   ]
  },
  {
   "cell_type": "code",
   "execution_count": null,
   "metadata": {
    "colab": {
     "base_uri": "https://localhost:8080/"
    },
    "executionInfo": {
     "elapsed": 30,
     "status": "ok",
     "timestamp": 1746842889558,
     "user": {
      "displayName": "Shuyu Tian",
      "userId": "00768256009043036265"
     },
     "user_tz": 240
    },
    "id": "aslmTTJQyL2X",
    "outputId": "adaa34db-2aea-4d81-e39c-71db9f199056"
   },
   "outputs": [],
   "source": [
    "df_query.info()"
   ]
  },
  {
   "cell_type": "code",
   "execution_count": 11,
   "metadata": {
    "executionInfo": {
     "elapsed": 13,
     "status": "ok",
     "timestamp": 1746842896401,
     "user": {
      "displayName": "Shuyu Tian",
      "userId": "00768256009043036265"
     },
     "user_tz": 240
    },
    "id": "etKlTSg-NLLb"
   },
   "outputs": [],
   "source": [
    "np.random.seed(88)\n",
    "df_query = df_query.sample(20)"
   ]
  },
  {
   "cell_type": "markdown",
   "metadata": {
    "id": "jr_BDzufPmmP"
   },
   "source": [
    "# 2) Running the baseline\n",
    "The following code runs a BM25-PT baseline.\n"
   ]
  },
  {
   "cell_type": "code",
   "execution_count": null,
   "metadata": {
    "colab": {
     "base_uri": "https://localhost:8080/"
    },
    "executionInfo": {
     "elapsed": 2529,
     "status": "ok",
     "timestamp": 1746844523573,
     "user": {
      "displayName": "Shuyu Tian",
      "userId": "00768256009043036265"
     },
     "user_tz": 240
    },
    "id": "Dea51IZvovCT",
    "outputId": "58f52560-76c7-42a5-9987-f0a1c556e73b"
   },
   "outputs": [],
   "source": [
    "!pip install bm25_pt\n",
    "from bm25_pt import BM25\n",
    "from torch import Tensor\n",
    "\n",
    "class BM25_Pytorch:\n",
    "    def __init__(self, corpus, cord_uids, device=None):\n",
    "        self.corpus = corpus\n",
    "        self.cord_uids = cord_uids\n",
    "        self.bm25 = BM25(device=device)\n",
    "        self.bm25.index(self.corpus)\n",
    "\n",
    "    def get_top_cord_uids(self, query, k=5000):\n",
    "        doc_scores = Tensor.cpu(self.bm25.score(query))\n",
    "        indices = np.argsort(-doc_scores)[:k]\n",
    "        bm25_topk = [self.cord_uids[x] for x in indices]\n",
    "        return bm25_topk\n",
    "\n",
    "    def retrieve_paper(paper_ids, df_collection):\n",
    "        paper_dict = {}\n",
    "        for id in paper_ids:\n",
    "            paper_data = df_collection[df_collection['cord_uid'] == id]\n",
    "            title = paper_data.iloc[0]['title']\n",
    "            abstract = paper_data.iloc[0]['abstract']\n",
    "            paper_dict[id] = {'title': title, 'abstract': abstract}\n",
    "        return paper_dict\n"
   ]
  },
  {
   "cell_type": "code",
   "execution_count": null,
   "metadata": {
    "colab": {
     "base_uri": "https://localhost:8080/",
     "height": 55,
     "referenced_widgets": [
      "560e2bb453824d8fab53d6fb1b53fa5b",
      "b3a0d41783d34aefa7694a1ac3e2d336",
      "cbe276c42b2f4c3fa2b5f7fb9db3c86f",
      "1f4b926a80844366add84f322884b5dd",
      "f559dee88d094084ade3a62b4c1a37aa",
      "76a38969345c4612aaaade897a6268da",
      "e0a1df63e97d4c4fbd1c53b49a4b2bd3",
      "dbf92ce717fb4d098a301b85fa3a822d",
      "4afa6ae11b1a4a8784b646ba2240c753",
      "2f639e981a5d4909a55878c1b0551beb",
      "6ebe7c7b212b49b2a44b3ea115970a2c"
     ]
    },
    "executionInfo": {
     "elapsed": 28218,
     "status": "ok",
     "timestamp": 1746844554301,
     "user": {
      "displayName": "Shuyu Tian",
      "userId": "00768256009043036265"
     },
     "user_tz": 240
    },
    "id": "O7zsTl4A9PEx",
    "outputId": "f7836d7a-77fd-48aa-ae73-0512706d567d"
   },
   "outputs": [],
   "source": [
    "corpus = df_collection[:][['title', 'abstract']].apply(lambda x: f\"{x['title']} {x['abstract']}\", axis=1).tolist()\n",
    "cord_uids = df_collection[:]['cord_uid'].tolist()\n",
    "\n",
    "bm25_pytorch = BM25_Pytorch(corpus=corpus, cord_uids=cord_uids)"
   ]
  },
  {
   "cell_type": "code",
   "execution_count": 30,
   "metadata": {
    "executionInfo": {
     "elapsed": 7,
     "status": "ok",
     "timestamp": 1746844554305,
     "user": {
      "displayName": "Shuyu Tian",
      "userId": "00768256009043036265"
     },
     "user_tz": 240
    },
    "id": "m1RyO_aC9UbI"
   },
   "outputs": [],
   "source": [
    "text2bm25top = {}\n",
    "\n",
    "def get_top_cord_uids_pt(query):\n",
    "    if query in text2bm25top:\n",
    "        return text2bm25top[query]\n",
    "    else:\n",
    "        bm25_topk = bm25_pytorch.get_top_cord_uids(query, k=5000)\n",
    "        text2bm25top[query] = bm25_topk\n",
    "        return bm25_topk"
   ]
  },
  {
   "cell_type": "code",
   "execution_count": 31,
   "metadata": {
    "executionInfo": {
     "elapsed": 387262,
     "status": "ok",
     "timestamp": 1746844941570,
     "user": {
      "displayName": "Shuyu Tian",
      "userId": "00768256009043036265"
     },
     "user_tz": 240
    },
    "id": "Qhd9QX_l9V4Q"
   },
   "outputs": [],
   "source": [
    "# Apply using BM25_pt model\n",
    "df_query['bm25_topk'] = df_query['tweet_text'].apply(get_top_cord_uids_pt)"
   ]
  },
  {
   "cell_type": "markdown",
   "metadata": {
    "id": "QVKBlTCZUMSc"
   },
   "source": [
    "# 3) Evaluating the baseline\n",
    "The following code evaluates the BM25 retrieval baseline on the query set using the Mean Reciprocal Rank score (MRR@5)."
   ]
  },
  {
   "cell_type": "code",
   "execution_count": 57,
   "metadata": {
    "executionInfo": {
     "elapsed": 5,
     "status": "ok",
     "timestamp": 1746837562050,
     "user": {
      "displayName": "Shuyu Tian",
      "userId": "00768256009043036265"
     },
     "user_tz": 240
    },
    "id": "c-vdGWXXTgjZ"
   },
   "outputs": [],
   "source": [
    "# Evaluate retrieved candidates using MRR@k\n",
    "def get_performance_mrr(data, col_gold, col_pred, list_k = [1, 5, 10]):\n",
    "    d_performance = {}\n",
    "    for k in list_k:\n",
    "        data[\"in_topx\"] = data.apply(lambda x: (1/([i for i in x[col_pred][:k]].index(x[col_gold]) + 1) if x[col_gold] in [i for i in x[col_pred][:k]] else 0), axis=1)\n",
    "        #performances.append(data[\"in_topx\"].mean())\n",
    "        d_performance[k] = data[\"in_topx\"].mean()\n",
    "    return d_performance\n"
   ]
  },
  {
   "cell_type": "code",
   "execution_count": null,
   "metadata": {
    "id": "gf9U6tMSSlvg"
   },
   "outputs": [],
   "source": [
    "bm25_results = get_performance_mrr(df_query, col_gold='cord_uid', col_pred='bm25_topk', list_k=[1,5,10])"
   ]
  },
  {
   "cell_type": "code",
   "execution_count": null,
   "metadata": {
    "colab": {
     "base_uri": "https://localhost:8080/"
    },
    "executionInfo": {
     "elapsed": 10,
     "status": "ok",
     "timestamp": 1746828602185,
     "user": {
      "displayName": "Shuyu Tian",
      "userId": "00768256009043036265"
     },
     "user_tz": 240
    },
    "id": "iVXIAqKcb9Fy",
    "outputId": "ec30b861-7c11-49f7-9f92-560ab1f1ec89"
   },
   "outputs": [],
   "source": [
    "print(df_query.columns)"
   ]
  },
  {
   "cell_type": "code",
   "execution_count": null,
   "metadata": {
    "id": "v8I-AOqGb3El"
   },
   "outputs": [],
   "source": [
    "df_query.columns = df_query.columns.str.strip()\n",
    "df_query['cord_uid']"
   ]
  },
  {
   "cell_type": "code",
   "execution_count": null,
   "metadata": {
    "id": "xLX9SMg5USkH"
   },
   "outputs": [],
   "source": [
    "results = get_performance_mrr(df_query, 'cord_uid', 'bm25_topk')\n",
    "# Printed MRR@k results in the following format: {k: MRR@k}\n",
    "print(results)"
   ]
  },
  {
   "cell_type": "markdown",
   "metadata": {
    "id": "P4G1NU0dOGCU"
   },
   "source": [
    "# 4) Possible solutions"
   ]
  },
  {
   "cell_type": "markdown",
   "metadata": {
    "id": "zXvncpDj3zuz"
   },
   "source": [
    "# 4.1) BM25-PT for Retrieval and T5 for Rerank"
   ]
  },
  {
   "cell_type": "code",
   "execution_count": null,
   "metadata": {
    "colab": {
     "base_uri": "https://localhost:8080/"
    },
    "executionInfo": {
     "elapsed": 5096,
     "status": "ok",
     "timestamp": 1746844946649,
     "user": {
      "displayName": "Shuyu Tian",
      "userId": "00768256009043036265"
     },
     "user_tz": 240
    },
    "id": "WgIQxvowBGX6",
    "outputId": "855cff6d-91e8-4d13-fe95-c4fae03324eb"
   },
   "outputs": [],
   "source": [
    "!pip install rerankers\n",
    "# All of the above\n",
    "!pip install \"rerankers[all]\""
   ]
  },
  {
   "cell_type": "code",
   "execution_count": 33,
   "metadata": {
    "executionInfo": {
     "elapsed": 6,
     "status": "ok",
     "timestamp": 1746844946653,
     "user": {
      "displayName": "Shuyu Tian",
      "userId": "00768256009043036265"
     },
     "user_tz": 240
    },
    "id": "IfEuEL3haIgG"
   },
   "outputs": [],
   "source": [
    "from rerankers import Reranker, Document"
   ]
  },
  {
   "cell_type": "code",
   "execution_count": null,
   "metadata": {
    "colab": {
     "base_uri": "https://localhost:8080/"
    },
    "executionInfo": {
     "elapsed": 2512,
     "status": "ok",
     "timestamp": 1746844949168,
     "user": {
      "displayName": "Shuyu Tian",
      "userId": "00768256009043036265"
     },
     "user_tz": 240
    },
    "id": "gFBs_DAkL3i6",
    "outputId": "667532fb-913e-43f3-95f7-c357f1c2f0b5"
   },
   "outputs": [],
   "source": [
    "!pip install --upgrade transformers"
   ]
  },
  {
   "cell_type": "code",
   "execution_count": null,
   "metadata": {
    "colab": {
     "base_uri": "https://localhost:8080/"
    },
    "executionInfo": {
     "elapsed": 1783,
     "status": "ok",
     "timestamp": 1746844950954,
     "user": {
      "displayName": "Shuyu Tian",
      "userId": "00768256009043036265"
     },
     "user_tz": 240
    },
    "id": "YdoxVvmUT3LA",
    "outputId": "86cc7d5d-91c5-4332-c739-35abfbb78f5b"
   },
   "outputs": [],
   "source": [
    "# default “cross‑encoder” is ms‑marco‑MiniLM‑L‑6‑v2 under the hood\n",
    "reranker = Reranker(\"t5\")"
   ]
  },
  {
   "cell_type": "code",
   "execution_count": null,
   "metadata": {
    "id": "zZTNyT4BT3LB"
   },
   "outputs": [],
   "source": [
    "def retrieve_paper(paper_ids):\n",
    "    paper_dict = {}\n",
    "    for pid in paper_ids:\n",
    "        paper_data = df_collection[df_collection['cord_uid'] == pid]\n",
    "        if not paper_data.empty:\n",
    "            title = paper_data.iloc[0]['title']\n",
    "            abstract = paper_data.iloc[0]['abstract']\n",
    "            paper_dict[pid] = {'title': title, 'abstract': abstract}\n",
    "    return paper_dict\n",
    "\n",
    "df_query['title_abstract'] = df_query['bm25_topk'].apply(retrieve_paper)\n"
   ]
  },
  {
   "cell_type": "code",
   "execution_count": null,
   "metadata": {
    "id": "4nt5JXEAT3LB"
   },
   "outputs": [],
   "source": [
    "df_query[['tweet_text', 'title_abstract']].head()"
   ]
  },
  {
   "cell_type": "code",
   "execution_count": null,
   "metadata": {
    "id": "3fM7pNhWTEVK"
   },
   "outputs": [],
   "source": [
    "def rerank_with_rerankers(row, top_k=1446):\n",
    "    query = row[\"tweet_text\"]\n",
    "\n",
    "    # Ensure input format for Reranker\n",
    "    docs = [\n",
    "        f\"{info['title']} {info['abstract']}\"\n",
    "        for info in row[\"title_abstract\"].values()\n",
    "    ]\n",
    "    doc_ids = list(row[\"title_abstract\"].keys())\n",
    "\n",
    "    # Apply reranker\n",
    "    results = reranker.rank(query=query, docs=docs, doc_ids=doc_ids)\n",
    "\n",
    "    # Get top_k reordered cord_uids\n",
    "    top_results = results.top_k(top_k)\n",
    "    return [res.doc_id for res in top_results]\n",
    "\n",
    "# Apply to DataFrame\n",
    "df_query[\"bm25_reranker_topk\"] = df_query.apply(rerank_with_rerankers, axis=1)"
   ]
  },
  {
   "cell_type": "code",
   "execution_count": null,
   "metadata": {
    "id": "Wd8cBHmJRZoE"
   },
   "outputs": [],
   "source": [
    "df_query['preds'] = df_query['bm25_reranker_topk'].apply(lambda x: x[:5])\n",
    "output_predictions_path = f\"predictions_{experiment_name}_{rerank_model.replace('/', '-')}.tsv\"\n",
    "df_query[['post_id', 'preds']].to_csv(output_predictions_path, sep='\\t', index=False)"
   ]
  },
  {
   "cell_type": "code",
   "execution_count": null,
   "metadata": {
    "colab": {
     "base_uri": "https://localhost:8080/",
     "height": 293
    },
    "executionInfo": {
     "elapsed": 653,
     "status": "ok",
     "timestamp": 1746835745477,
     "user": {
      "displayName": "Shuyu Tian",
      "userId": "00768256009043036265"
     },
     "user_tz": 240
    },
    "id": "na9EFbkZR31X",
    "outputId": "e0b5e942-96d5-4617-ca36-f8eb144b6ecc"
   },
   "outputs": [],
   "source": [
    "df_query.head()"
   ]
  },
  {
   "cell_type": "code",
   "execution_count": null,
   "metadata": {
    "colab": {
     "base_uri": "https://localhost:8080/"
    },
    "executionInfo": {
     "elapsed": 13,
     "status": "ok",
     "timestamp": 1746828309228,
     "user": {
      "displayName": "Shuyu Tian",
      "userId": "00768256009043036265"
     },
     "user_tz": 240
    },
    "id": "WooQkU05kP8b",
    "outputId": "27218bc4-51fe-4d75-c0a4-f51e8dd3faba"
   },
   "outputs": [],
   "source": [
    "mrr_scores = get_performance_mrr(\n",
    "    df_query,                # Dataset\n",
    "    \"cord_uid\",              # Ground‑truth column\n",
    "    \"bm25_reranker_topk\"     # New reranked lists\n",
    ")\n",
    "print(mrr_scores)"
   ]
  }
 ],
 "metadata": {
  "accelerator": "GPU",
  "colab": {
   "gpuType": "T4",
   "provenance": []
  },
  "kernelspec": {
   "display_name": "Python 3",
   "name": "python3"
  },
  "language_info": {
   "codemirror_mode": {
    "name": "ipython",
    "version": 3
   },
   "file_extension": ".py",
   "mimetype": "text/x-python",
   "name": "python",
   "nbconvert_exporter": "python",
   "pygments_lexer": "ipython3",
   "version": "3.9.18"
  },
  "widgets": {
   "application/vnd.jupyter.widget-state+json": {
    "1f4b926a80844366add84f322884b5dd": {
     "model_module": "@jupyter-widgets/controls",
     "model_module_version": "1.5.0",
     "model_name": "HTMLModel",
     "state": {
      "_dom_classes": [],
      "_model_module": "@jupyter-widgets/controls",
      "_model_module_version": "1.5.0",
      "_model_name": "HTMLModel",
      "_view_count": null,
      "_view_module": "@jupyter-widgets/controls",
      "_view_module_version": "1.5.0",
      "_view_name": "HTMLView",
      "description": "",
      "description_tooltip": null,
      "layout": "IPY_MODEL_2f639e981a5d4909a55878c1b0551beb",
      "placeholder": "​",
      "style": "IPY_MODEL_6ebe7c7b212b49b2a44b3ea115970a2c",
      "value": " 7680/7718 [00:26&lt;00:00, 490.48it/s]"
     }
    },
    "2f639e981a5d4909a55878c1b0551beb": {
     "model_module": "@jupyter-widgets/base",
     "model_module_version": "1.2.0",
     "model_name": "LayoutModel",
     "state": {
      "_model_module": "@jupyter-widgets/base",
      "_model_module_version": "1.2.0",
      "_model_name": "LayoutModel",
      "_view_count": null,
      "_view_module": "@jupyter-widgets/base",
      "_view_module_version": "1.2.0",
      "_view_name": "LayoutView",
      "align_content": null,
      "align_items": null,
      "align_self": null,
      "border": null,
      "bottom": null,
      "display": null,
      "flex": null,
      "flex_flow": null,
      "grid_area": null,
      "grid_auto_columns": null,
      "grid_auto_flow": null,
      "grid_auto_rows": null,
      "grid_column": null,
      "grid_gap": null,
      "grid_row": null,
      "grid_template_areas": null,
      "grid_template_columns": null,
      "grid_template_rows": null,
      "height": null,
      "justify_content": null,
      "justify_items": null,
      "left": null,
      "margin": null,
      "max_height": null,
      "max_width": null,
      "min_height": null,
      "min_width": null,
      "object_fit": null,
      "object_position": null,
      "order": null,
      "overflow": null,
      "overflow_x": null,
      "overflow_y": null,
      "padding": null,
      "right": null,
      "top": null,
      "visibility": null,
      "width": null
     }
    },
    "4afa6ae11b1a4a8784b646ba2240c753": {
     "model_module": "@jupyter-widgets/controls",
     "model_module_version": "1.5.0",
     "model_name": "ProgressStyleModel",
     "state": {
      "_model_module": "@jupyter-widgets/controls",
      "_model_module_version": "1.5.0",
      "_model_name": "ProgressStyleModel",
      "_view_count": null,
      "_view_module": "@jupyter-widgets/base",
      "_view_module_version": "1.2.0",
      "_view_name": "StyleView",
      "bar_color": "blue",
      "description_width": ""
     }
    },
    "560e2bb453824d8fab53d6fb1b53fa5b": {
     "model_module": "@jupyter-widgets/controls",
     "model_module_version": "1.5.0",
     "model_name": "HBoxModel",
     "state": {
      "_dom_classes": [],
      "_model_module": "@jupyter-widgets/controls",
      "_model_module_version": "1.5.0",
      "_model_name": "HBoxModel",
      "_view_count": null,
      "_view_module": "@jupyter-widgets/controls",
      "_view_module_version": "1.5.0",
      "_view_name": "HBoxView",
      "box_style": "",
      "children": [
       "IPY_MODEL_b3a0d41783d34aefa7694a1ac3e2d336",
       "IPY_MODEL_cbe276c42b2f4c3fa2b5f7fb9db3c86f",
       "IPY_MODEL_1f4b926a80844366add84f322884b5dd"
      ],
      "layout": "IPY_MODEL_f559dee88d094084ade3a62b4c1a37aa"
     }
    },
    "6ebe7c7b212b49b2a44b3ea115970a2c": {
     "model_module": "@jupyter-widgets/controls",
     "model_module_version": "1.5.0",
     "model_name": "DescriptionStyleModel",
     "state": {
      "_model_module": "@jupyter-widgets/controls",
      "_model_module_version": "1.5.0",
      "_model_name": "DescriptionStyleModel",
      "_view_count": null,
      "_view_module": "@jupyter-widgets/base",
      "_view_module_version": "1.2.0",
      "_view_name": "StyleView",
      "description_width": ""
     }
    },
    "76a38969345c4612aaaade897a6268da": {
     "model_module": "@jupyter-widgets/base",
     "model_module_version": "1.2.0",
     "model_name": "LayoutModel",
     "state": {
      "_model_module": "@jupyter-widgets/base",
      "_model_module_version": "1.2.0",
      "_model_name": "LayoutModel",
      "_view_count": null,
      "_view_module": "@jupyter-widgets/base",
      "_view_module_version": "1.2.0",
      "_view_name": "LayoutView",
      "align_content": null,
      "align_items": null,
      "align_self": null,
      "border": null,
      "bottom": null,
      "display": null,
      "flex": null,
      "flex_flow": null,
      "grid_area": null,
      "grid_auto_columns": null,
      "grid_auto_flow": null,
      "grid_auto_rows": null,
      "grid_column": null,
      "grid_gap": null,
      "grid_row": null,
      "grid_template_areas": null,
      "grid_template_columns": null,
      "grid_template_rows": null,
      "height": null,
      "justify_content": null,
      "justify_items": null,
      "left": null,
      "margin": null,
      "max_height": null,
      "max_width": null,
      "min_height": null,
      "min_width": null,
      "object_fit": null,
      "object_position": null,
      "order": null,
      "overflow": null,
      "overflow_x": null,
      "overflow_y": null,
      "padding": null,
      "right": null,
      "top": null,
      "visibility": null,
      "width": null
     }
    },
    "b3a0d41783d34aefa7694a1ac3e2d336": {
     "model_module": "@jupyter-widgets/controls",
     "model_module_version": "1.5.0",
     "model_name": "HTMLModel",
     "state": {
      "_dom_classes": [],
      "_model_module": "@jupyter-widgets/controls",
      "_model_module_version": "1.5.0",
      "_model_name": "HTMLModel",
      "_view_count": null,
      "_view_module": "@jupyter-widgets/controls",
      "_view_module_version": "1.5.0",
      "_view_name": "HTMLView",
      "description": "",
      "description_tooltip": null,
      "layout": "IPY_MODEL_76a38969345c4612aaaade897a6268da",
      "placeholder": "​",
      "style": "IPY_MODEL_e0a1df63e97d4c4fbd1c53b49a4b2bd3",
      "value": "100%"
     }
    },
    "cbe276c42b2f4c3fa2b5f7fb9db3c86f": {
     "model_module": "@jupyter-widgets/controls",
     "model_module_version": "1.5.0",
     "model_name": "FloatProgressModel",
     "state": {
      "_dom_classes": [],
      "_model_module": "@jupyter-widgets/controls",
      "_model_module_version": "1.5.0",
      "_model_name": "FloatProgressModel",
      "_view_count": null,
      "_view_module": "@jupyter-widgets/controls",
      "_view_module_version": "1.5.0",
      "_view_name": "ProgressView",
      "bar_style": "",
      "description": "",
      "description_tooltip": null,
      "layout": "IPY_MODEL_dbf92ce717fb4d098a301b85fa3a822d",
      "max": 7718,
      "min": 0,
      "orientation": "horizontal",
      "style": "IPY_MODEL_4afa6ae11b1a4a8784b646ba2240c753",
      "value": 7718
     }
    },
    "dbf92ce717fb4d098a301b85fa3a822d": {
     "model_module": "@jupyter-widgets/base",
     "model_module_version": "1.2.0",
     "model_name": "LayoutModel",
     "state": {
      "_model_module": "@jupyter-widgets/base",
      "_model_module_version": "1.2.0",
      "_model_name": "LayoutModel",
      "_view_count": null,
      "_view_module": "@jupyter-widgets/base",
      "_view_module_version": "1.2.0",
      "_view_name": "LayoutView",
      "align_content": null,
      "align_items": null,
      "align_self": null,
      "border": null,
      "bottom": null,
      "display": null,
      "flex": null,
      "flex_flow": null,
      "grid_area": null,
      "grid_auto_columns": null,
      "grid_auto_flow": null,
      "grid_auto_rows": null,
      "grid_column": null,
      "grid_gap": null,
      "grid_row": null,
      "grid_template_areas": null,
      "grid_template_columns": null,
      "grid_template_rows": null,
      "height": null,
      "justify_content": null,
      "justify_items": null,
      "left": null,
      "margin": null,
      "max_height": null,
      "max_width": null,
      "min_height": null,
      "min_width": null,
      "object_fit": null,
      "object_position": null,
      "order": null,
      "overflow": null,
      "overflow_x": null,
      "overflow_y": null,
      "padding": null,
      "right": null,
      "top": null,
      "visibility": null,
      "width": null
     }
    },
    "e0a1df63e97d4c4fbd1c53b49a4b2bd3": {
     "model_module": "@jupyter-widgets/controls",
     "model_module_version": "1.5.0",
     "model_name": "DescriptionStyleModel",
     "state": {
      "_model_module": "@jupyter-widgets/controls",
      "_model_module_version": "1.5.0",
      "_model_name": "DescriptionStyleModel",
      "_view_count": null,
      "_view_module": "@jupyter-widgets/base",
      "_view_module_version": "1.2.0",
      "_view_name": "StyleView",
      "description_width": ""
     }
    },
    "f559dee88d094084ade3a62b4c1a37aa": {
     "model_module": "@jupyter-widgets/base",
     "model_module_version": "1.2.0",
     "model_name": "LayoutModel",
     "state": {
      "_model_module": "@jupyter-widgets/base",
      "_model_module_version": "1.2.0",
      "_model_name": "LayoutModel",
      "_view_count": null,
      "_view_module": "@jupyter-widgets/base",
      "_view_module_version": "1.2.0",
      "_view_name": "LayoutView",
      "align_content": null,
      "align_items": null,
      "align_self": null,
      "border": null,
      "bottom": null,
      "display": null,
      "flex": null,
      "flex_flow": null,
      "grid_area": null,
      "grid_auto_columns": null,
      "grid_auto_flow": null,
      "grid_auto_rows": null,
      "grid_column": null,
      "grid_gap": null,
      "grid_row": null,
      "grid_template_areas": null,
      "grid_template_columns": null,
      "grid_template_rows": null,
      "height": null,
      "justify_content": null,
      "justify_items": null,
      "left": null,
      "margin": null,
      "max_height": null,
      "max_width": null,
      "min_height": null,
      "min_width": null,
      "object_fit": null,
      "object_position": null,
      "order": null,
      "overflow": null,
      "overflow_x": null,
      "overflow_y": null,
      "padding": null,
      "right": null,
      "top": null,
      "visibility": "hidden",
      "width": null
     }
    }
   }
  }
 },
 "nbformat": 4,
 "nbformat_minor": 0
}
